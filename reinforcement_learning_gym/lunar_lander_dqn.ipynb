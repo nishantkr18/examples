{
 "cells": [
  {
   "cell_type": "markdown",
   "metadata": {},
   "source": [
    "[![Binder](https://mybinder.org/badge_logo.svg)](https://lab.mlpack.org/v2/gh/mlpack/examples/master?urlpath=lab%2Ftree%2Fq_learning%2Flunar_lander_dqn.ipynb)\n",
    "\n",
    "You can easily run this notebook at https://lab.mlpack.org/\n",
    "\n",
    "This notebook shows how to get started with training reinforcement learning agents, particularly DQN agents, using mlpack. Here, we train a [Simple DQN](https://www.cs.toronto.edu/~vmnih/docs/dqn.pdf) agent to get high scores for the [LunarLander-v2](https://gym.openai.com/envs/LunarLander-v2/) environment. \n",
    "\n",
    "We make the agent train and test on OpenAI Gym toolkit's GUI interface provided through a distributed infrastructure (TCP API). More details can be found [here](https://github.com/zoq/gym_tcp_api).\n",
    "\n",
    "A video of the trained agent can be seen in the end."
   ]
  },
  {
   "cell_type": "markdown",
   "metadata": {},
   "source": [
    "## Including necessary libraries and namespaces"
   ]
  },
  {
   "cell_type": "code",
   "execution_count": 1,
   "metadata": {},
   "outputs": [],
   "source": [
    "#include <mlpack/core.hpp>"
   ]
  },
  {
   "cell_type": "code",
   "execution_count": 2,
   "metadata": {},
   "outputs": [],
   "source": [
    "#include <mlpack/methods/ann/ffn.hpp>\n",
    "#include <mlpack/methods/reinforcement_learning/q_learning.hpp>\n",
    "#include <mlpack/methods/reinforcement_learning/q_networks/simple_dqn.hpp>\n",
    "#include <mlpack/methods/reinforcement_learning/environment/env_type.hpp>\n",
    "#include <mlpack/methods/reinforcement_learning/policy/greedy_policy.hpp>\n",
    "#include <mlpack/methods/reinforcement_learning/training_config.hpp>"
   ]
  },
  {
   "cell_type": "code",
   "execution_count": 3,
   "metadata": {},
   "outputs": [],
   "source": [
    "// Used to run the agent on gym's environment (provided externally) for testing.\n",
    "#include <gym/environment.hpp>"
   ]
  },
  {
   "cell_type": "code",
   "execution_count": 4,
   "metadata": {},
   "outputs": [],
   "source": [
    "// Used to generate and display a video of the trained agent.\n",
    "#include \"xwidgets/ximage.hpp\"\n",
    "#include \"xwidgets/xvideo.hpp\"\n",
    "#include \"xwidgets/xaudio.hpp\""
   ]
  },
  {
   "cell_type": "code",
   "execution_count": 5,
   "metadata": {},
   "outputs": [],
   "source": [
    "using namespace mlpack;"
   ]
  },
  {
   "cell_type": "code",
   "execution_count": 6,
   "metadata": {},
   "outputs": [],
   "source": [
    "using namespace mlpack::ann;"
   ]
  },
  {
   "cell_type": "code",
   "execution_count": 7,
   "metadata": {},
   "outputs": [],
   "source": [
    "using namespace ens;"
   ]
  },
  {
   "cell_type": "code",
   "execution_count": 8,
   "metadata": {},
   "outputs": [],
   "source": [
    "using namespace mlpack::rl;"
   ]
  },
  {
   "cell_type": "markdown",
   "metadata": {},
   "source": [
    "## Initializing the agent"
   ]
  },
  {
   "cell_type": "code",
   "execution_count": 9,
   "metadata": {},
   "outputs": [],
   "source": [
    "// Set up the state and action space.\n",
    "DiscreteActionEnv::State::dimension = 8;\n",
    "DiscreteActionEnv::Action::size = 4;"
   ]
  },
  {
   "cell_type": "code",
   "execution_count": 10,
   "metadata": {},
   "outputs": [],
   "source": [
    "// Set up the network.\n",
    "FFN<MeanSquaredError<>, GaussianInitialization> network(\n",
    "    MeanSquaredError<>(), GaussianInitialization(0, 1));\n",
    "network.Add<Linear<>>(DiscreteActionEnv::State::dimension, 128);\n",
    "network.Add<ReLULayer<>>();\n",
    "network.Add<Linear<>>(128, DiscreteActionEnv::Action::size);\n",
    "\n",
    "SimpleDQN<> model(network);"
   ]
  },
  {
   "cell_type": "code",
   "execution_count": 11,
   "metadata": {},
   "outputs": [],
   "source": [
    "// Set up the policy and replay method.\n",
    "GreedyPolicy<DiscreteActionEnv> policy(1.0, 2000, 0.1, 0.99);\n",
    "RandomReplay<DiscreteActionEnv> replayMethod(64, 100000);"
   ]
  },
  {
   "cell_type": "code",
   "execution_count": 12,
   "metadata": {},
   "outputs": [],
   "source": [
    "// Set up training configurations.\n",
    "TrainingConfig config;\n",
    "config.ExplorationSteps() = 100;\n",
    "config.DoubleQLearning() = false;"
   ]
  },
  {
   "cell_type": "code",
   "execution_count": 13,
   "metadata": {},
   "outputs": [],
   "source": [
    "// Set up DQN agent.\n",
    "QLearning<DiscreteActionEnv, decltype(model), AdamUpdate, decltype(policy)>\n",
    "    agent(config, model, policy, replayMethod);"
   ]
  },
  {
   "cell_type": "markdown",
   "metadata": {},
   "source": [
    "## Preparation for training the agent"
   ]
  },
  {
   "cell_type": "code",
   "execution_count": 14,
   "metadata": {},
   "outputs": [],
   "source": [
    "// Set up the gym training environment.\n",
    "gym::Environment env(\"gym.kurg.org\", \"4040\", \"LunarLander-v2\");\n",
    "\n",
    "// Initializing training variables.\n",
    "std::vector<double> returnList;\n",
    "size_t episodes = 0;\n",
    "bool converged = true;\n",
    "\n",
    "// The number of episode returns to keep track of.\n",
    "size_t consecutiveEpisodes = 50;"
   ]
  },
  {
   "cell_type": "code",
   "execution_count": 15,
   "metadata": {},
   "outputs": [],
   "source": [
    "// Function to train the agent on the gym implementation of LunarLander environment.\n",
    "void train(const size_t numSteps)\n",
    "{\n",
    "  agent.Deterministic() = false;\n",
    "  std::cout << \"Training for \" << numSteps << \" steps.\" << std::endl;\n",
    "  while (agent.TotalSteps() < numSteps)\n",
    "  {\n",
    "    double episodeReturn = 0;\n",
    "    env.reset();\n",
    "    do\n",
    "    {\n",
    "      agent.State().Data() = env.observation;\n",
    "      agent.SelectAction();\n",
    "      arma::mat action = {double(agent.Action().action)};\n",
    "\n",
    "      env.step(action);\n",
    "      DiscreteActionEnv::State nextState;\n",
    "      nextState.Data() = env.observation;\n",
    "\n",
    "      replayMethod.Store(agent.State(), agent.Action(), env.reward, nextState,\n",
    "          env.done, 0.99);\n",
    "      episodeReturn += env.reward;\n",
    "      agent.TotalSteps()++;\n",
    "      if (agent.Deterministic() || agent.TotalSteps() < config.ExplorationSteps())\n",
    "        continue;\n",
    "      agent.TrainAgent();\n",
    "    } while (!env.done);\n",
    "    returnList.push_back(episodeReturn);\n",
    "    episodes += 1;\n",
    "\n",
    "    if (returnList.size() > consecutiveEpisodes)\n",
    "      returnList.erase(returnList.begin());\n",
    "        \n",
    "    double averageReturn = std::accumulate(returnList.begin(),\n",
    "                                           returnList.end(), 0.0) /\n",
    "                           returnList.size();\n",
    "    if(episodes % 5 == 0)\n",
    "    {\n",
    "      std::cout << \"Avg return in last \" << returnList.size()\n",
    "          << \" episodes: \" << averageReturn\n",
    "          << \"\\t\" << episodes\n",
    "          << \"th episode return: \" << episodeReturn\n",
    "          << \"\\t Steps: \" << agent.TotalSteps() << std::endl;\n",
    "    }\n",
    "  }\n",
    "}"
   ]
  },
  {
   "cell_type": "markdown",
   "metadata": {},
   "source": [
    "## Let the training begin"
   ]
  },
  {
   "cell_type": "code",
   "execution_count": 16,
   "metadata": {},
   "outputs": [
    {
     "name": "stdout",
     "output_type": "stream",
     "text": [
      "Training for 10000 steps.\n",
      "Avg return in last 5 episodes: -194.18\t5th episode return: -153.237\t Steps: 441\n",
      "Avg return in last 10 episodes: -182.628\t10th episode return: -101.164\t Steps: 1028\n",
      "Avg return in last 15 episodes: -177.656\t15th episode return: -200.554\t Steps: 1764\n",
      "Avg return in last 20 episodes: -165.164\t20th episode return: -195.816\t Steps: 2742\n",
      "Avg return in last 25 episodes: -173.573\t25th episode return: -318.202\t Steps: 3718\n",
      "Avg return in last 30 episodes: -166.942\t30th episode return: -79.2901\t Steps: 4654\n",
      "Avg return in last 35 episodes: -159.46\t35th episode return: -75.691\t Steps: 5423\n",
      "Avg return in last 40 episodes: -151.316\t40th episode return: -149.785\t Steps: 6649\n"
     ]
    }
   ],
   "source": [
    "// Training the agent for a total of at least 10000 steps.\n",
    "train(10000)"
   ]
  },
  {
   "cell_type": "markdown",
   "metadata": {},
   "source": [
    "## Testing the trained agent"
   ]
  },
  {
   "cell_type": "code",
   "execution_count": 17,
   "metadata": {},
   "outputs": [
    {
     "name": "stdout",
     "output_type": "stream",
     "text": [
      " Total steps: 687\t Total reward: -461.826\n",
      "https://gym.kurg.org/dd6d73ef7b7f4/output.webm"
     ]
    },
    {
     "data": {
      "application/vnd.jupyter.widget-view+json": {
       "model_id": "2be452d32538455c9c6b59416d7a9868",
       "version_major": 2,
       "version_minor": 0
      },
      "text/plain": [
       "A Jupyter widget"
      ]
     },
     "execution_count": 17,
     "metadata": {},
     "output_type": "execute_result"
    }
   ],
   "source": [
    "agent.Deterministic() = true;\n",
    "\n",
    "// Creating and setting up the gym environment for testing.\n",
    "gym::Environment envTest(\"gym.kurg.org\", \"4040\", \"LunarLander-v2\");\n",
    "envTest.monitor.start(\"./dummy/\", true, true);\n",
    "\n",
    "// Resets the environment.\n",
    "envTest.reset();\n",
    "envTest.render();\n",
    "\n",
    "double totalReward = 0;\n",
    "size_t totalSteps = 0;\n",
    "\n",
    "// Testing the agent on gym's environment.\n",
    "while (1)\n",
    "{\n",
    "  // State from the environment is passed to the agent's internal representation.\n",
    "  agent.State().Data() = envTest.observation;\n",
    "\n",
    "  // With the given state, the agent selects an action according to its defined policy.\n",
    "  agent.SelectAction();\n",
    "\n",
    "  // Action to take, decided by the policy.\n",
    "  arma::mat action = {double(agent.Action().action)};\n",
    "\n",
    "  envTest.step(action);\n",
    "  totalReward += envTest.reward;\n",
    "  totalSteps += 1;\n",
    "\n",
    "  if (envTest.done)\n",
    "  {\n",
    "    std::cout << \" Total steps: \" << totalSteps << \"\\t Total reward: \"\n",
    "        << totalReward << std::endl;\n",
    "    break;\n",
    "  }\n",
    "\n",
    "  // Uncomment the following lines to see the reward and action in each step.\n",
    "  // std::cout << \" Current step: \" << totalSteps << \"\\t current reward: \"\n",
    "  //   << totalReward << \"\\t Action taken: \" << action;\n",
    "}\n",
    "\n",
    "envTest.close();\n",
    "std::string url = envTest.url();\n",
    "std::cout << url;\n",
    "auto video = xw::video_from_url(url).finalize();\n",
    "video"
   ]
  },
  {
   "cell_type": "markdown",
   "metadata": {},
   "source": [
    "## A little more training..."
   ]
  },
  {
   "cell_type": "code",
   "execution_count": 18,
   "metadata": {},
   "outputs": [
    {
     "name": "stdout",
     "output_type": "stream",
     "text": [
      "Training for 100000 steps.\n",
      "Avg return in last 45 episodes: -146.766\t45th episode return: -252.637\t Steps: 10917\n",
      "Avg return in last 50 episodes: -141.891\t50th episode return: 18.9724\t Steps: 13376\n",
      "Avg return in last 50 episodes: -137.465\t55th episode return: -238.157\t Steps: 17036\n",
      "Avg return in last 50 episodes: -125.792\t60th episode return: -45.9381\t Steps: 19453\n",
      "Avg return in last 50 episodes: -123.141\t65th episode return: -175.618\t Steps: 20381\n",
      "Avg return in last 50 episodes: -115.198\t70th episode return: -144.099\t Steps: 21934\n",
      "Avg return in last 50 episodes: -101.778\t75th episode return: -12.9555\t Steps: 23576\n",
      "Avg return in last 50 episodes: -97.059\t80th episode return: -61.9758\t Steps: 24151\n",
      "Avg return in last 50 episodes: -96.595\t85th episode return: 75.604\t Steps: 25536\n",
      "Avg return in last 50 episodes: -104.601\t90th episode return: -81.2942\t Steps: 26192\n",
      "Avg return in last 50 episodes: -105.909\t95th episode return: -284.902\t Steps: 26709\n",
      "Avg return in last 50 episodes: -122.314\t100th episode return: -167.313\t Steps: 27706\n",
      "Avg return in last 50 episodes: -131.519\t105th episode return: -187.552\t Steps: 28237\n",
      "Avg return in last 50 episodes: -150.171\t110th episode return: -103.857\t Steps: 29457\n",
      "Avg return in last 50 episodes: -147.951\t115th episode return: -5.78733\t Steps: 30393\n",
      "Avg return in last 50 episodes: -166.214\t120th episode return: -190.074\t Steps: 32107\n",
      "Avg return in last 50 episodes: -167.236\t125th episode return: 65.5197\t Steps: 34950\n",
      "Avg return in last 50 episodes: -170.725\t130th episode return: -48.0405\t Steps: 36624\n",
      "Avg return in last 50 episodes: -163.04\t135th episode return: -215.628\t Steps: 38524\n",
      "Avg return in last 50 episodes: -156.002\t140th episode return: 165.064\t Steps: 40379\n",
      "Avg return in last 50 episodes: -135.442\t145th episode return: 109.519\t Steps: 44068\n",
      "Avg return in last 50 episodes: -126.53\t150th episode return: 199.944\t Steps: 45551\n",
      "Avg return in last 50 episodes: -104.077\t155th episode return: -357.923\t Steps: 47852\n",
      "Avg return in last 50 episodes: -91.0401\t160th episode return: -222.917\t Steps: 50076\n",
      "Avg return in last 50 episodes: -91.4271\t165th episode return: -270.977\t Steps: 51663\n",
      "Avg return in last 50 episodes: -68.8402\t170th episode return: 55.9556\t Steps: 53343\n",
      "Avg return in last 50 episodes: -83.2142\t175th episode return: -421.189\t Steps: 54431\n",
      "Avg return in last 50 episodes: -72.4118\t180th episode return: 165.86\t Steps: 56374\n",
      "Avg return in last 50 episodes: -74.5264\t185th episode return: -36.6648\t Steps: 57684\n",
      "Avg return in last 50 episodes: -61.4636\t190th episode return: 181.57\t Steps: 59372\n",
      "Avg return in last 50 episodes: -68.5421\t195th episode return: 165.867\t Steps: 61260\n",
      "Avg return in last 50 episodes: -50.5869\t200th episode return: 40.779\t Steps: 64009\n",
      "Avg return in last 50 episodes: -53.2368\t205th episode return: -50.6624\t Steps: 65820\n",
      "Avg return in last 50 episodes: -52.5131\t210th episode return: -162.749\t Steps: 68590\n",
      "Avg return in last 50 episodes: -41.8541\t215th episode return: 14.8803\t Steps: 72180\n",
      "Avg return in last 50 episodes: -30.7785\t220th episode return: 6.79227\t Steps: 74395\n",
      "Avg return in last 50 episodes: -1.95187\t225th episode return: 174.842\t Steps: 77527\n",
      "Avg return in last 50 episodes: -13.0044\t230th episode return: 56.6118\t Steps: 79326\n",
      "Avg return in last 50 episodes: -0.523694\t235th episode return: 247.687\t Steps: 82026\n",
      "Avg return in last 50 episodes: -30.1152\t240th episode return: -527.729\t Steps: 83427\n",
      "Avg return in last 50 episodes: -25.7664\t245th episode return: 111.978\t Steps: 87699\n",
      "Avg return in last 50 episodes: -30.2046\t250th episode return: 93.8517\t Steps: 91924\n",
      "Avg return in last 50 episodes: -35.8337\t255th episode return: -22.3572\t Steps: 92718\n",
      "Avg return in last 50 episodes: -26.2266\t260th episode return: -4.23359\t Steps: 93757\n",
      "Avg return in last 50 episodes: -26.4095\t265th episode return: 248.435\t Steps: 95390\n",
      "Avg return in last 50 episodes: -55.9441\t270th episode return: -337.312\t Steps: 97387\n",
      "Avg return in last 50 episodes: -65.3774\t275th episode return: 154.82\t Steps: 100098\n"
     ]
    }
   ],
   "source": [
    "// Training the same agent for a total of at least 100000 steps.\n",
    "train(100000)"
   ]
  },
  {
   "cell_type": "markdown",
   "metadata": {},
   "source": [
    "# Final agent testing!\n",
    "*Note*: If you don't find a satisfactory output, please rerun the cell below. It's not guaranteed that the agent will receive high rewards on all test runs."
   ]
  },
  {
   "cell_type": "code",
   "execution_count": 19,
   "metadata": {},
   "outputs": [
    {
     "name": "stdout",
     "output_type": "stream",
     "text": [
      " Total steps: 400\t Total reward: 205.182\n",
      "https://gym.kurg.org/dd039a77afe24/output.webm"
     ]
    },
    {
     "data": {
      "application/vnd.jupyter.widget-view+json": {
       "model_id": "43df1d85fb2c430e872fab5d54d4b311",
       "version_major": 2,
       "version_minor": 0
      },
      "text/plain": [
       "A Jupyter widget"
      ]
     },
     "execution_count": 19,
     "metadata": {},
     "output_type": "execute_result"
    }
   ],
   "source": [
    "agent.Deterministic() = true;\n",
    "\n",
    "// Creating and setting up the gym environment for testing.\n",
    "gym::Environment envTest(\"gym.kurg.org\", \"4040\", \"LunarLander-v2\");\n",
    "envTest.monitor.start(\"./dummy/\", true, true);\n",
    "\n",
    "// Resets the environment.\n",
    "envTest.reset();\n",
    "envTest.render();\n",
    "\n",
    "double totalReward = 0;\n",
    "size_t totalSteps = 0;\n",
    "\n",
    "// Testing the agent on gym's environment.\n",
    "while (1)\n",
    "{\n",
    "  // State from the environment is passed to the agent's internal representation.\n",
    "  agent.State().Data() = envTest.observation;\n",
    "\n",
    "  // With the given state, the agent selects an action according to its defined policy.\n",
    "  agent.SelectAction();\n",
    "\n",
    "  // Action to take, decided by the policy.\n",
    "  arma::mat action = {double(agent.Action().action)};\n",
    "\n",
    "  envTest.step(action);\n",
    "  totalReward += envTest.reward;\n",
    "  totalSteps += 1;\n",
    "\n",
    "  if (envTest.done)\n",
    "  {\n",
    "    std::cout << \" Total steps: \" << totalSteps << \"\\t Total reward: \"\n",
    "        << totalReward << std::endl;\n",
    "    break;\n",
    "  }\n",
    "\n",
    "  // Uncomment the following lines to see the reward and action in each step.\n",
    "  // std::cout << \" Current step: \" << totalSteps << \"\\t current reward: \"\n",
    "  //   << totalReward << \"\\t Action taken: \" << action;\n",
    "}\n",
    "\n",
    "envTest.close();\n",
    "std::string url = envTest.url();\n",
    "std::cout << url;\n",
    "auto video = xw::video_from_url(url).finalize();\n",
    "video"
   ]
  }
 ],
 "metadata": {
  "kernelspec": {
   "display_name": "C++14",
   "language": "C++14",
   "name": "xcpp14"
  },
  "language_info": {
   "codemirror_mode": "text/x-c++src",
   "file_extension": ".cpp",
   "mimetype": "text/x-c++src",
   "name": "c++",
   "version": "14"
  }
 },
 "nbformat": 4,
 "nbformat_minor": 2
}
