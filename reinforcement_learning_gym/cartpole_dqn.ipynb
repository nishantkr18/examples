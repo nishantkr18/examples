{
 "cells": [
  {
   "cell_type": "markdown",
   "metadata": {},
   "source": [
    "[![Binder](https://mybinder.org/badge_logo.svg)](https://lab.mlpack.org/v2/gh/mlpack/examples/master?urlpath=lab%2Ftree%2Fq_learning%2Fcartpole_dqn.ipynb)\n",
    "\n",
    "You can easily run this notebook at https://lab.mlpack.org/\n",
    "\n",
    "This notebook shows how to get started with training reinforcement learning agents, particularly DQN agents, using mlpack. Here, we train a [Simple DQN](https://www.cs.toronto.edu/~vmnih/docs/dqn.pdf) agent to get high scores for the [CartPole](https://gym.openai.com/envs/CartPole-v0) environment. \n",
    "\n",
    "We make the agent train and test on OpenAI Gym toolkit's GUI interface provided through a distributed infrastructure (TCP API). More details can be found [here](https://github.com/zoq/gym_tcp_api).\n",
    "\n",
    "A video of the trained agent can be seen in the end."
   ]
  },
  {
   "cell_type": "markdown",
   "metadata": {},
   "source": [
    "## Including necessary libraries and namespaces"
   ]
  },
  {
   "cell_type": "code",
   "execution_count": 1,
   "metadata": {},
   "outputs": [],
   "source": [
    "#include <mlpack/core.hpp>"
   ]
  },
  {
   "cell_type": "code",
   "execution_count": 2,
   "metadata": {},
   "outputs": [],
   "source": [
    "#include <mlpack/methods/ann/ffn.hpp>\n",
    "#include <mlpack/methods/reinforcement_learning/q_learning.hpp>\n",
    "#include <mlpack/methods/reinforcement_learning/q_networks/simple_dqn.hpp>\n",
    "#include <mlpack/methods/reinforcement_learning/environment/env_type.hpp>\n",
    "#include <mlpack/methods/reinforcement_learning/policy/greedy_policy.hpp>\n",
    "#include <mlpack/methods/reinforcement_learning/training_config.hpp>"
   ]
  },
  {
   "cell_type": "code",
   "execution_count": 3,
   "metadata": {},
   "outputs": [],
   "source": [
    "// Used to run the agent on gym's environment (provided externally) for testing.\n",
    "#include <gym/environment.hpp>"
   ]
  },
  {
   "cell_type": "code",
   "execution_count": 4,
   "metadata": {},
   "outputs": [],
   "source": [
    "// Used to generate and display a video of the trained agent.\n",
    "#include \"xwidgets/ximage.hpp\"\n",
    "#include \"xwidgets/xvideo.hpp\"\n",
    "#include \"xwidgets/xaudio.hpp\""
   ]
  },
  {
   "cell_type": "code",
   "execution_count": 5,
   "metadata": {},
   "outputs": [],
   "source": [
    "using namespace mlpack;"
   ]
  },
  {
   "cell_type": "code",
   "execution_count": 6,
   "metadata": {},
   "outputs": [],
   "source": [
    "using namespace mlpack::ann;"
   ]
  },
  {
   "cell_type": "code",
   "execution_count": 7,
   "metadata": {},
   "outputs": [],
   "source": [
    "using namespace ens;"
   ]
  },
  {
   "cell_type": "code",
   "execution_count": 8,
   "metadata": {},
   "outputs": [],
   "source": [
    "using namespace mlpack::rl;"
   ]
  },
  {
   "cell_type": "markdown",
   "metadata": {},
   "source": [
    "## Initializing the agent"
   ]
  },
  {
   "cell_type": "code",
   "execution_count": 9,
   "metadata": {},
   "outputs": [],
   "source": [
    "// Set up the state and action space.\n",
    "DiscreteActionEnv::State::dimension = 4;\n",
    "DiscreteActionEnv::Action::size = 2;"
   ]
  },
  {
   "cell_type": "code",
   "execution_count": 10,
   "metadata": {},
   "outputs": [],
   "source": [
    "// Set up the network.\n",
    "SimpleDQN<> model(DiscreteActionEnv::State::dimension, 128, 32,\n",
    "                  DiscreteActionEnv::Action::size);"
   ]
  },
  {
   "cell_type": "code",
   "execution_count": 11,
   "metadata": {},
   "outputs": [],
   "source": [
    "// Set up the policy and replay method.\n",
    "GreedyPolicy<DiscreteActionEnv> policy(1.0, 1000, 0.1, 0.99);\n",
    "RandomReplay<DiscreteActionEnv> replayMethod(32, 2000);"
   ]
  },
  {
   "cell_type": "code",
   "execution_count": 12,
   "metadata": {},
   "outputs": [],
   "source": [
    "// Set up training configurations.\n",
    "TrainingConfig config;\n",
    "config.StepSize() = 0.001;\n",
    "config.Discount() = 0.99;\n",
    "config.TargetNetworkSyncInterval() = 100;\n",
    "config.ExplorationSteps() = 100;\n",
    "config.DoubleQLearning() = false;\n",
    "config.StepLimit() = 200;"
   ]
  },
  {
   "cell_type": "code",
   "execution_count": 13,
   "metadata": {},
   "outputs": [],
   "source": [
    "// Set up DQN agent.\n",
    "QLearning<DiscreteActionEnv, decltype(model), AdamUpdate, decltype(policy)>\n",
    "    agent(config, model, policy, replayMethod);"
   ]
  },
  {
   "cell_type": "markdown",
   "metadata": {},
   "source": [
    "## Preparation for training the agent"
   ]
  },
  {
   "cell_type": "code",
   "execution_count": 14,
   "metadata": {},
   "outputs": [],
   "source": [
    "// Set up the gym training environment.\n",
    "gym::Environment env(\"gym.kurg.org\", \"4040\", \"CartPole-v0\");\n",
    "\n",
    "// Initializing training variables.\n",
    "std::vector<double> returnList;\n",
    "size_t episodes = 0;\n",
    "bool converged = true;\n",
    "\n",
    "// The number of episode returns to keep track of.\n",
    "size_t consecutiveEpisodes = 50;"
   ]
  },
  {
   "cell_type": "code",
   "execution_count": 15,
   "metadata": {},
   "outputs": [],
   "source": [
    "// Function to train the agent on mlpack's own implementation of the CartPole environment.\n",
    "void train(const size_t numSteps)\n",
    "{\n",
    "  agent.Deterministic() = false;\n",
    "  std::cout << \"Training for \" << numSteps << \" steps.\" << std::endl;\n",
    "  while (agent.TotalSteps() < numSteps)\n",
    "  {\n",
    "    double episodeReturn = 0;\n",
    "    env.reset();\n",
    "    do\n",
    "    {\n",
    "      agent.State().Data() = env.observation;\n",
    "      agent.SelectAction();\n",
    "      arma::mat action = {double(agent.Action().action)};\n",
    "\n",
    "      env.step(action);\n",
    "      DiscreteActionEnv::State nextState;\n",
    "      nextState.Data() = env.observation;\n",
    "\n",
    "      replayMethod.Store(agent.State(), agent.Action(), env.reward, nextState,\n",
    "          env.done, 0.99);\n",
    "      episodeReturn += env.reward;\n",
    "      agent.TotalSteps()++;\n",
    "      if (agent.Deterministic() || agent.TotalSteps() < config.ExplorationSteps())\n",
    "        continue;\n",
    "      agent.TrainAgent();\n",
    "    } while (!env.done);\n",
    "    returnList.push_back(episodeReturn);\n",
    "    episodes += 1;\n",
    "\n",
    "    if (returnList.size() > consecutiveEpisodes)\n",
    "      returnList.erase(returnList.begin());\n",
    "        \n",
    "    double averageReturn = std::accumulate(returnList.begin(),\n",
    "                                           returnList.end(), 0.0) /\n",
    "                           returnList.size();\n",
    "    if(episodes % 1 == 0)\n",
    "    {\n",
    "      std::cout << \"Avg return in last \" << consecutiveEpisodes\n",
    "          << \" episodes: \" << averageReturn\n",
    "          << \"\\t Episode return: \" << episodeReturn\n",
    "          << \"\\t Total steps: \" << agent.TotalSteps() << std::endl;\n",
    "    }\n",
    "  }\n",
    "}"
   ]
  },
  {
   "cell_type": "markdown",
   "metadata": {},
   "source": [
    "## Let the training begin"
   ]
  },
  {
   "cell_type": "code",
   "execution_count": 16,
   "metadata": {},
   "outputs": [
    {
     "name": "stdout",
     "output_type": "stream",
     "text": [
      "Training for 2500 steps.\n",
      "Avg return in last 50 episodes: 19\t Episode return: 19\t Total steps: 19\n",
      "Avg return in last 50 episodes: 16.5\t Episode return: 14\t Total steps: 33\n",
      "Avg return in last 50 episodes: 15\t Episode return: 12\t Total steps: 45\n",
      "Avg return in last 50 episodes: 15\t Episode return: 15\t Total steps: 60\n",
      "Avg return in last 50 episodes: 14.4\t Episode return: 12\t Total steps: 72\n",
      "Avg return in last 50 episodes: 15.3333\t Episode return: 20\t Total steps: 92\n",
      "Avg return in last 50 episodes: 14.8571\t Episode return: 12\t Total steps: 104\n",
      "Avg return in last 50 episodes: 17.5\t Episode return: 36\t Total steps: 140\n",
      "Avg return in last 50 episodes: 17.3333\t Episode return: 16\t Total steps: 156\n",
      "Avg return in last 50 episodes: 17.6\t Episode return: 20\t Total steps: 176\n",
      "Avg return in last 50 episodes: 20\t Episode return: 44\t Total steps: 220\n",
      "Avg return in last 50 episodes: 19.1667\t Episode return: 10\t Total steps: 230\n",
      "Avg return in last 50 episodes: 18.7692\t Episode return: 14\t Total steps: 244\n",
      "Avg return in last 50 episodes: 19.2857\t Episode return: 26\t Total steps: 270\n",
      "Avg return in last 50 episodes: 19.4\t Episode return: 21\t Total steps: 291\n",
      "Avg return in last 50 episodes: 19.0625\t Episode return: 14\t Total steps: 305\n",
      "Avg return in last 50 episodes: 18.8824\t Episode return: 16\t Total steps: 321\n",
      "Avg return in last 50 episodes: 19.4444\t Episode return: 29\t Total steps: 350\n",
      "Avg return in last 50 episodes: 19.6316\t Episode return: 23\t Total steps: 373\n",
      "Avg return in last 50 episodes: 19.5\t Episode return: 17\t Total steps: 390\n",
      "Avg return in last 50 episodes: 19.1429\t Episode return: 12\t Total steps: 402\n",
      "Avg return in last 50 episodes: 18.8182\t Episode return: 12\t Total steps: 414\n",
      "Avg return in last 50 episodes: 18.6957\t Episode return: 16\t Total steps: 430\n",
      "Avg return in last 50 episodes: 18.75\t Episode return: 20\t Total steps: 450\n",
      "Avg return in last 50 episodes: 18.44\t Episode return: 11\t Total steps: 461\n",
      "Avg return in last 50 episodes: 18.2308\t Episode return: 13\t Total steps: 474\n",
      "Avg return in last 50 episodes: 18.037\t Episode return: 13\t Total steps: 487\n",
      "Avg return in last 50 episodes: 17.9643\t Episode return: 16\t Total steps: 503\n",
      "Avg return in last 50 episodes: 18.0345\t Episode return: 20\t Total steps: 523\n",
      "Avg return in last 50 episodes: 18.6333\t Episode return: 36\t Total steps: 559\n",
      "Avg return in last 50 episodes: 18.6452\t Episode return: 19\t Total steps: 578\n",
      "Avg return in last 50 episodes: 18.5938\t Episode return: 17\t Total steps: 595\n",
      "Avg return in last 50 episodes: 18.3333\t Episode return: 10\t Total steps: 605\n",
      "Avg return in last 50 episodes: 18.1471\t Episode return: 12\t Total steps: 617\n",
      "Avg return in last 50 episodes: 17.9429\t Episode return: 11\t Total steps: 628\n",
      "Avg return in last 50 episodes: 17.75\t Episode return: 11\t Total steps: 639\n",
      "Avg return in last 50 episodes: 17.5405\t Episode return: 10\t Total steps: 649\n",
      "Avg return in last 50 episodes: 17.4737\t Episode return: 15\t Total steps: 664\n",
      "Avg return in last 50 episodes: 17.3333\t Episode return: 12\t Total steps: 676\n",
      "Avg return in last 50 episodes: 17.225\t Episode return: 13\t Total steps: 689\n",
      "Avg return in last 50 episodes: 17.0732\t Episode return: 11\t Total steps: 700\n",
      "Avg return in last 50 episodes: 17.0476\t Episode return: 16\t Total steps: 716\n",
      "Avg return in last 50 episodes: 16.8605\t Episode return: 9\t Total steps: 725\n",
      "Avg return in last 50 episodes: 16.75\t Episode return: 12\t Total steps: 737\n",
      "Avg return in last 50 episodes: 16.8222\t Episode return: 20\t Total steps: 757\n",
      "Avg return in last 50 episodes: 16.6739\t Episode return: 10\t Total steps: 767\n",
      "Avg return in last 50 episodes: 16.5957\t Episode return: 13\t Total steps: 780\n",
      "Avg return in last 50 episodes: 16.5417\t Episode return: 14\t Total steps: 794\n",
      "Avg return in last 50 episodes: 16.4898\t Episode return: 14\t Total steps: 808\n",
      "Avg return in last 50 episodes: 16.5\t Episode return: 17\t Total steps: 825\n",
      "Avg return in last 50 episodes: 16.32\t Episode return: 10\t Total steps: 835\n",
      "Avg return in last 50 episodes: 16.4\t Episode return: 18\t Total steps: 853\n",
      "Avg return in last 50 episodes: 16.38\t Episode return: 11\t Total steps: 864\n",
      "Avg return in last 50 episodes: 16.26\t Episode return: 9\t Total steps: 873\n",
      "Avg return in last 50 episodes: 16.28\t Episode return: 13\t Total steps: 886\n",
      "Avg return in last 50 episodes: 16.06\t Episode return: 9\t Total steps: 895\n",
      "Avg return in last 50 episodes: 16.04\t Episode return: 11\t Total steps: 906\n",
      "Avg return in last 50 episodes: 15.54\t Episode return: 11\t Total steps: 917\n",
      "Avg return in last 50 episodes: 15.52\t Episode return: 15\t Total steps: 932\n",
      "Avg return in last 50 episodes: 15.36\t Episode return: 12\t Total steps: 944\n",
      "Avg return in last 50 episodes: 14.68\t Episode return: 10\t Total steps: 954\n",
      "Avg return in last 50 episodes: 14.84\t Episode return: 18\t Total steps: 972\n",
      "Avg return in last 50 episodes: 14.8\t Episode return: 12\t Total steps: 984\n",
      "Avg return in last 50 episodes: 14.5\t Episode return: 11\t Total steps: 995\n",
      "Avg return in last 50 episodes: 14.4\t Episode return: 16\t Total steps: 1011\n",
      "Avg return in last 50 episodes: 14.4\t Episode return: 14\t Total steps: 1025\n",
      "Avg return in last 50 episodes: 14.54\t Episode return: 23\t Total steps: 1048\n",
      "Avg return in last 50 episodes: 14.24\t Episode return: 14\t Total steps: 1062\n",
      "Avg return in last 50 episodes: 14.28\t Episode return: 25\t Total steps: 1087\n",
      "Avg return in last 50 episodes: 14.1\t Episode return: 8\t Total steps: 1095\n",
      "Avg return in last 50 episodes: 14.04\t Episode return: 9\t Total steps: 1104\n",
      "Avg return in last 50 episodes: 14.04\t Episode return: 12\t Total steps: 1116\n",
      "Avg return in last 50 episodes: 14.2\t Episode return: 24\t Total steps: 1140\n",
      "Avg return in last 50 episodes: 14.18\t Episode return: 19\t Total steps: 1159\n",
      "Avg return in last 50 episodes: 14.14\t Episode return: 9\t Total steps: 1168\n",
      "Avg return in last 50 episodes: 14.28\t Episode return: 20\t Total steps: 1188\n",
      "Avg return in last 50 episodes: 14.92\t Episode return: 45\t Total steps: 1233\n",
      "Avg return in last 50 episodes: 15.78\t Episode return: 59\t Total steps: 1292\n",
      "Avg return in last 50 episodes: 15.76\t Episode return: 19\t Total steps: 1311\n",
      "Avg return in last 50 episodes: 15.46\t Episode return: 21\t Total steps: 1332\n",
      "Avg return in last 50 episodes: 16.62\t Episode return: 77\t Total steps: 1409\n",
      "Avg return in last 50 episodes: 17.78\t Episode return: 75\t Total steps: 1484\n",
      "Avg return in last 50 episodes: 18.68\t Episode return: 55\t Total steps: 1539\n",
      "Avg return in last 50 episodes: 19.3\t Episode return: 43\t Total steps: 1582\n",
      "Avg return in last 50 episodes: 20.3\t Episode return: 61\t Total steps: 1643\n",
      "Avg return in last 50 episodes: 21.16\t Episode return: 54\t Total steps: 1697\n",
      "Avg return in last 50 episodes: 22.06\t Episode return: 55\t Total steps: 1752\n",
      "Avg return in last 50 episodes: 22.82\t Episode return: 53\t Total steps: 1805\n",
      "Avg return in last 50 episodes: 24.24\t Episode return: 83\t Total steps: 1888\n",
      "Avg return in last 50 episodes: 25.64\t Episode return: 83\t Total steps: 1971\n",
      "Avg return in last 50 episodes: 26.82\t Episode return: 70\t Total steps: 2041\n",
      "Avg return in last 50 episodes: 28.32\t Episode return: 91\t Total steps: 2132\n",
      "Avg return in last 50 episodes: 29.08\t Episode return: 47\t Total steps: 2179\n",
      "Avg return in last 50 episodes: 30.48\t Episode return: 82\t Total steps: 2261\n",
      "Avg return in last 50 episodes: 32.56\t Episode return: 124\t Total steps: 2385\n",
      "Avg return in last 50 episodes: 33.24\t Episode return: 44\t Total steps: 2429\n",
      "Avg return in last 50 episodes: 35.58\t Episode return: 130\t Total steps: 2559\n"
     ]
    }
   ],
   "source": [
    "// Training the agent for a total of at least 2500 steps.\n",
    "train(2500)"
   ]
  },
  {
   "cell_type": "markdown",
   "metadata": {},
   "source": [
    "## Testing the trained agent"
   ]
  },
  {
   "cell_type": "code",
   "execution_count": 17,
   "metadata": {},
   "outputs": [
    {
     "name": "stdout",
     "output_type": "stream",
     "text": [
      " Total steps: 75\t Total reward: 75\n"
     ]
    },
    {
     "data": {
      "application/vnd.jupyter.widget-view+json": {
       "model_id": "d4ba3096995d426d9b12e7eac1052d63",
       "version_major": 2,
       "version_minor": 0
      },
      "text/plain": [
       "A Jupyter widget"
      ]
     },
     "execution_count": 17,
     "metadata": {},
     "output_type": "execute_result"
    }
   ],
   "source": [
    "agent.Deterministic() = true;\n",
    "\n",
    "// Creating and setting up the gym environment for testing.\n",
    "gym::Environment envTest(\"gym.kurg.org\", \"4040\", \"CartPole-v0\");\n",
    "envTest.monitor.start(\"./dummy/\", true, true);\n",
    "\n",
    "// Resets the environment.\n",
    "envTest.reset();\n",
    "envTest.render();\n",
    "\n",
    "double totalReward = 0;\n",
    "size_t totalSteps = 0;\n",
    "\n",
    "// Testing the agent on gym's environment.\n",
    "while (1)\n",
    "{\n",
    "  // State from the environment is passed to the agent's internal representation.\n",
    "  agent.State().Data() = envTest.observation;\n",
    "\n",
    "  // With the given state, the agent selects an action according to its defined policy.\n",
    "  agent.SelectAction();\n",
    "\n",
    "  // Action to take, decided by the policy.\n",
    "  arma::mat action = {double(agent.Action().action)};\n",
    "\n",
    "  envTest.step(action);\n",
    "  totalReward += envTest.reward;\n",
    "  totalSteps += 1;\n",
    "\n",
    "  if (envTest.done)\n",
    "  {\n",
    "    std::cout << \" Total steps: \" << totalSteps << \"\\t Total reward: \"\n",
    "        << totalReward << std::endl;\n",
    "    break;\n",
    "  }\n",
    "\n",
    "  // Uncomment the following lines to see the reward and action in each step.\n",
    "  // std::cout << \" Current step: \" << totalSteps << \"\\t current reward: \"\n",
    "  //   << totalReward << \"\\t Action taken: \" << action;\n",
    "}\n",
    "\n",
    "envTest.close();\n",
    "std::string url = envTest.url();\n",
    "\n",
    "auto video = xw::video_from_url(url).finalize();\n",
    "video"
   ]
  },
  {
   "cell_type": "markdown",
   "metadata": {},
   "source": [
    "## A little more training..."
   ]
  },
  {
   "cell_type": "code",
   "execution_count": 18,
   "metadata": {},
   "outputs": [
    {
     "name": "stdout",
     "output_type": "stream",
     "text": [
      "Training for 5000 steps.\n",
      "Avg return in last 50 episodes: 36.56\t Episode return: 63\t Total steps: 2622\n",
      "Avg return in last 50 episodes: 38.08\t Episode return: 90\t Total steps: 2712\n",
      "Avg return in last 50 episodes: 38.98\t Episode return: 62\t Total steps: 2774\n",
      "Avg return in last 50 episodes: 42.78\t Episode return: 200\t Total steps: 2974\n",
      "Avg return in last 50 episodes: 46.22\t Episode return: 190\t Total steps: 3164\n",
      "Avg return in last 50 episodes: 50\t Episode return: 200\t Total steps: 3364\n",
      "Avg return in last 50 episodes: 52.36\t Episode return: 127\t Total steps: 3491\n",
      "Avg return in last 50 episodes: 56\t Episode return: 195\t Total steps: 3686\n",
      "Avg return in last 50 episodes: 58.86\t Episode return: 152\t Total steps: 3838\n",
      "Avg return in last 50 episodes: 62.5\t Episode return: 193\t Total steps: 4031\n",
      "Avg return in last 50 episodes: 66.28\t Episode return: 200\t Total steps: 4231\n",
      "Avg return in last 50 episodes: 69.98\t Episode return: 200\t Total steps: 4431\n",
      "Avg return in last 50 episodes: 73.32\t Episode return: 179\t Total steps: 4610\n",
      "Avg return in last 50 episodes: 76.8\t Episode return: 184\t Total steps: 4794\n",
      "Avg return in last 50 episodes: 80.44\t Episode return: 200\t Total steps: 4994\n",
      "Avg return in last 50 episodes: 83.5\t Episode return: 165\t Total steps: 5159\n"
     ]
    }
   ],
   "source": [
    "// Training the same agent for a total of at least 5000 episodes.\n",
    "train(5000)"
   ]
  },
  {
   "cell_type": "markdown",
   "metadata": {},
   "source": [
    "# Final agent testing!"
   ]
  },
  {
   "cell_type": "code",
   "execution_count": 19,
   "metadata": {},
   "outputs": [
    {
     "name": "stdout",
     "output_type": "stream",
     "text": [
      " Total steps: 144\t Total reward: 144\n"
     ]
    },
    {
     "data": {
      "application/vnd.jupyter.widget-view+json": {
       "model_id": "2d072cb9a03c4cc18e022fd0c91bc3c8",
       "version_major": 2,
       "version_minor": 0
      },
      "text/plain": [
       "A Jupyter widget"
      ]
     },
     "execution_count": 19,
     "metadata": {},
     "output_type": "execute_result"
    }
   ],
   "source": [
    "agent.Deterministic() = true;\n",
    "\n",
    "// Creating and setting up the gym environment for testing.\n",
    "gym::Environment envTest(\"gym.kurg.org\", \"4040\", \"CartPole-v0\");\n",
    "envTest.monitor.start(\"./dummy/\", true, true);\n",
    "\n",
    "// Resets the environment.\n",
    "envTest.reset();\n",
    "envTest.render();\n",
    "\n",
    "double totalReward = 0;\n",
    "size_t totalSteps = 0;\n",
    "\n",
    "// Testing the agent on gym's environment.\n",
    "while (1)\n",
    "{\n",
    "  // State from the environment is passed to the agent's internal representation.\n",
    "  agent.State().Data() = envTest.observation;\n",
    "\n",
    "  // With the given state, the agent selects an action according to its defined policy.\n",
    "  agent.SelectAction();\n",
    "\n",
    "  // Action to take, decided by the policy.\n",
    "  arma::mat action = {double(agent.Action().action)};\n",
    "\n",
    "  envTest.step(action);\n",
    "  totalReward += envTest.reward;\n",
    "  totalSteps += 1;\n",
    "\n",
    "  if (envTest.done)\n",
    "  {\n",
    "    std::cout << \" Total steps: \" << totalSteps << \"\\t Total reward: \"\n",
    "        << totalReward << std::endl;\n",
    "    break;\n",
    "  }\n",
    "\n",
    "  // Uncomment the following lines to see the reward and action in each step.\n",
    "  // std::cout << \" Current step: \" << totalSteps << \"\\t current reward: \"\n",
    "  //   << totalReward << \"\\t Action taken: \" << action;\n",
    "}\n",
    "\n",
    "envTest.close();\n",
    "std::string url = envTest.url();\n",
    "\n",
    "auto video = xw::video_from_url(url).finalize();\n",
    "video"
   ]
  }
 ],
 "metadata": {
  "kernelspec": {
   "display_name": "C++14",
   "language": "C++14",
   "name": "xcpp14"
  },
  "language_info": {
   "codemirror_mode": "text/x-c++src",
   "file_extension": ".cpp",
   "mimetype": "text/x-c++src",
   "name": "c++",
   "version": "14"
  }
 },
 "nbformat": 4,
 "nbformat_minor": 2
}
