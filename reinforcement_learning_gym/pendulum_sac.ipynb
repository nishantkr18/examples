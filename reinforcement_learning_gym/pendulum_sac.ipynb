{
 "cells": [
  {
   "cell_type": "markdown",
   "metadata": {},
   "source": [
    "[![Binder](https://mybinder.org/badge_logo.svg)](https://lab.mlpack.org/v2/gh/mlpack/examples/master?urlpath=lab%2Ftree%2Fq_learning%2Fpendulum_sac.ipynb)\n",
    "\n",
    "You can easily run this notebook at https://lab.mlpack.org/\n",
    "\n",
    "Here, we train a [Soft Actor-Critic](https://arxiv.org/abs/1801.01290) agent to get high scores for the [Pendulum](https://gym.openai.com/envs/Pendulum-v0/) environment. \n",
    "\n",
    "We make the agent train and test on OpenAI Gym toolkit's GUI interface provided through a distributed infrastructure (TCP API). More details can be found [here](https://github.com/zoq/gym_tcp_api).\n",
    "\n",
    "A video of the trained agent can be seen in the end."
   ]
  },
  {
   "cell_type": "markdown",
   "metadata": {},
   "source": [
    "## Including necessary libraries and namespaces"
   ]
  },
  {
   "cell_type": "code",
   "execution_count": 1,
   "metadata": {},
   "outputs": [],
   "source": [
    "#include <mlpack/core.hpp>"
   ]
  },
  {
   "cell_type": "code",
   "execution_count": 2,
   "metadata": {},
   "outputs": [],
   "source": [
    "#include <mlpack/methods/ann/ffn.hpp>\n",
    "#include <mlpack/methods/reinforcement_learning/sac.hpp>\n",
    "#include <mlpack/methods/ann/loss_functions/empty_loss.hpp>\n",
    "#include <mlpack/methods/ann/init_rules/gaussian_init.hpp>\n",
    "#include <mlpack/methods/reinforcement_learning/environment/env_type.hpp>\n",
    "#include <mlpack/methods/reinforcement_learning/training_config.hpp>"
   ]
  },
  {
   "cell_type": "code",
   "execution_count": 3,
   "metadata": {},
   "outputs": [],
   "source": [
    "// Used to run the agent on gym's environment (provided externally) for testing.\n",
    "#include <gym/environment.hpp>"
   ]
  },
  {
   "cell_type": "code",
   "execution_count": 4,
   "metadata": {},
   "outputs": [],
   "source": [
    "// Used to generate and display a video of the trained agent.\n",
    "#include \"xwidgets/ximage.hpp\"\n",
    "#include \"xwidgets/xvideo.hpp\"\n",
    "#include \"xwidgets/xaudio.hpp\""
   ]
  },
  {
   "cell_type": "code",
   "execution_count": 5,
   "metadata": {},
   "outputs": [],
   "source": [
    "using namespace mlpack;"
   ]
  },
  {
   "cell_type": "code",
   "execution_count": 6,
   "metadata": {},
   "outputs": [],
   "source": [
    "using namespace mlpack::ann;"
   ]
  },
  {
   "cell_type": "code",
   "execution_count": 7,
   "metadata": {},
   "outputs": [],
   "source": [
    "using namespace ens;"
   ]
  },
  {
   "cell_type": "code",
   "execution_count": 8,
   "metadata": {},
   "outputs": [],
   "source": [
    "using namespace mlpack::rl;"
   ]
  },
  {
   "cell_type": "markdown",
   "metadata": {},
   "source": [
    "## Initializing the agent"
   ]
  },
  {
   "cell_type": "code",
   "execution_count": 9,
   "metadata": {},
   "outputs": [],
   "source": [
    "// Set up the state and action space.\n",
    "ContinuousActionEnv::State::dimension = 3;\n",
    "ContinuousActionEnv::Action::size = 1;"
   ]
  },
  {
   "cell_type": "code",
   "execution_count": 10,
   "metadata": {},
   "outputs": [],
   "source": [
    "// Set up the actor and critic networks.\n",
    "FFN<EmptyLoss<>, GaussianInitialization>\n",
    "    policyNetwork(EmptyLoss<>(), GaussianInitialization(0, 0.1));\n",
    "policyNetwork.Add(new Linear<>(ContinuousActionEnv::State::dimension, 32));\n",
    "policyNetwork.Add(new ReLULayer<>());\n",
    "policyNetwork.Add(new Linear<>(32, ContinuousActionEnv::Action::size));\n",
    "policyNetwork.Add(new TanHLayer<>());\n",
    "\n",
    "FFN<EmptyLoss<>, GaussianInitialization>\n",
    "    qNetwork(EmptyLoss<>(), GaussianInitialization(0, 0.1));\n",
    "qNetwork.Add(new Linear<>(ContinuousActionEnv::State::dimension +\n",
    "                          ContinuousActionEnv::Action::size, 32));\n",
    "qNetwork.Add(new ReLULayer<>());\n",
    "qNetwork.Add(new Linear<>(32, 1));"
   ]
  },
  {
   "cell_type": "code",
   "execution_count": 11,
   "metadata": {},
   "outputs": [],
   "source": [
    "// Set up the policy method.\n",
    "RandomReplay<ContinuousActionEnv> replayMethod(32, 10000);"
   ]
  },
  {
   "cell_type": "code",
   "execution_count": 12,
   "metadata": {},
   "outputs": [],
   "source": [
    "// Set up training configurations.\n",
    "TrainingConfig config;\n",
    "config.TargetNetworkSyncInterval() = 1;\n",
    "config.UpdateInterval() = 1;"
   ]
  },
  {
   "cell_type": "code",
   "execution_count": 13,
   "metadata": {},
   "outputs": [],
   "source": [
    "// Set up Soft actor-critic agent.\n",
    "SAC<ContinuousActionEnv, decltype(qNetwork), decltype(policyNetwork), AdamUpdate>\n",
    "    agent(config, qNetwork, policyNetwork, replayMethod);"
   ]
  },
  {
   "cell_type": "markdown",
   "metadata": {},
   "source": [
    "## Preparation for training the agent"
   ]
  },
  {
   "cell_type": "code",
   "execution_count": 14,
   "metadata": {},
   "outputs": [],
   "source": [
    "// Set up the gym training environment.\n",
    "gym::Environment env(\"gym.kurg.org\", \"4040\", \"Pendulum-v0\");\n",
    "\n",
    "// Initializing training variables.\n",
    "std::vector<double> returnList;\n",
    "size_t episodes = 0;\n",
    "bool converged = true;\n",
    "\n",
    "// The number of episode returns to keep track of.\n",
    "size_t consecutiveEpisodes = 25;"
   ]
  },
  {
   "cell_type": "code",
   "execution_count": 15,
   "metadata": {},
   "outputs": [],
   "source": [
    "// Function to train the agent on the Pendulum gym environment.\n",
    "void train(const size_t numSteps)\n",
    "{\n",
    "  agent.Deterministic() = false;\n",
    "  std::cout << \"Training for \" << numSteps << \" steps.\" << std::endl;\n",
    "  while (agent.TotalSteps() < numSteps)\n",
    "  {\n",
    "    double episodeReturn = 0;\n",
    "    env.reset();\n",
    "    do\n",
    "    {\n",
    "      agent.State().Data() = env.observation;\n",
    "      agent.SelectAction();\n",
    "      arma::mat action = {double(agent.Action().action[0] * 2)};\n",
    "\n",
    "      env.step(action);\n",
    "      ContinuousActionEnv::State nextState;\n",
    "      nextState.Data() = env.observation;\n",
    "\n",
    "      replayMethod.Store(agent.State(), agent.Action(), env.reward, nextState,\n",
    "          env.done, 0.99);\n",
    "      episodeReturn += env.reward;\n",
    "      agent.TotalSteps()++;\n",
    "      if (agent.Deterministic() || agent.TotalSteps() < config.ExplorationSteps())\n",
    "        continue;\n",
    "      for (size_t i = 0; i < config.UpdateInterval(); i++)\n",
    "        agent.Update();\n",
    "    } while (!env.done);\n",
    "    returnList.push_back(episodeReturn);\n",
    "    episodes += 1;\n",
    "\n",
    "    if (returnList.size() > consecutiveEpisodes)\n",
    "      returnList.erase(returnList.begin());\n",
    "        \n",
    "    double averageReturn = std::accumulate(returnList.begin(),\n",
    "                                           returnList.end(), 0.0) /\n",
    "                           returnList.size();\n",
    "    if(episodes % 4 == 0)\n",
    "    {\n",
    "      std::cout << \"Avg return in last \" << returnList.size()\n",
    "          << \" episodes: \" << averageReturn\n",
    "          << \"\\t Episode return: \" << episodeReturn\n",
    "          << \"\\t Total steps: \" << agent.TotalSteps() << std::endl;\n",
    "    }\n",
    "  }\n",
    "}"
   ]
  },
  {
   "cell_type": "markdown",
   "metadata": {},
   "source": [
    "## Let the training begin"
   ]
  },
  {
   "cell_type": "code",
   "execution_count": 16,
   "metadata": {},
   "outputs": [
    {
     "name": "stdout",
     "output_type": "stream",
     "text": [
      "Training for 5000 steps.\n",
      "Avg return in last 4 episodes: -1110.78\t Episode return: -660.74\t Total steps: 800\n",
      "Avg return in last 8 episodes: -952.778\t Episode return: -838.488\t Total steps: 1600\n",
      "Avg return in last 12 episodes: -871.959\t Episode return: -688.612\t Total steps: 2400\n",
      "Avg return in last 16 episodes: -790.431\t Episode return: -129.354\t Total steps: 3200\n",
      "Avg return in last 20 episodes: -755.523\t Episode return: -1.9158\t Total steps: 4000\n",
      "Avg return in last 24 episodes: -693.449\t Episode return: -122.304\t Total steps: 4800\n"
     ]
    }
   ],
   "source": [
    "// Training the agent for a total of at least 5000 steps.\n",
    "train(5000)"
   ]
  },
  {
   "cell_type": "markdown",
   "metadata": {},
   "source": [
    "## Testing the trained agent"
   ]
  },
  {
   "cell_type": "code",
   "execution_count": 17,
   "metadata": {},
   "outputs": [
    {
     "name": "stdout",
     "output_type": "stream",
     "text": [
      " Total steps: 200\t Total reward: -1183.11\n",
      "https://gym.kurg.org/3b171aaeb3d74/output.webm"
     ]
    },
    {
     "data": {
      "application/vnd.jupyter.widget-view+json": {
       "model_id": "a1132682bf13484bbee8d2bf3ea5d9b7",
       "version_major": 2,
       "version_minor": 0
      },
      "text/plain": [
       "A Jupyter widget"
      ]
     },
     "execution_count": 17,
     "metadata": {},
     "output_type": "execute_result"
    }
   ],
   "source": [
    "agent.Deterministic() = true;\n",
    "\n",
    "// Creating and setting up the gym environment for testing.\n",
    "gym::Environment envTest(\"gym.kurg.org\", \"4040\", \"Pendulum-v0\");\n",
    "envTest.monitor.start(\"./dummy/\", true, true);\n",
    "\n",
    "// Resets the environment.\n",
    "envTest.reset();\n",
    "envTest.render();\n",
    "\n",
    "double totalReward = 0;\n",
    "size_t totalSteps = 0;\n",
    "\n",
    "// Testing the agent on gym's environment.\n",
    "while (1)\n",
    "{\n",
    "  // State from the environment is passed to the agent's internal representation.\n",
    "  agent.State().Data() = envTest.observation;\n",
    "\n",
    "  // With the given state, the agent selects an action according to its defined policy.\n",
    "  agent.SelectAction();\n",
    "\n",
    "  // Action to take, decided by the policy.\n",
    "  arma::mat action = {double(agent.Action().action[0] * 2)};\n",
    "\n",
    "  envTest.step(action);\n",
    "  totalReward += envTest.reward;\n",
    "  totalSteps += 1;\n",
    "\n",
    "  if (envTest.done)\n",
    "  {\n",
    "    std::cout << \" Total steps: \" << totalSteps << \"\\t Total reward: \"\n",
    "        << totalReward << std::endl;\n",
    "    break;\n",
    "  }\n",
    "\n",
    "  // Uncomment the following lines to see the reward and action in each step.\n",
    "  // std::cout << \" Current step: \" << totalSteps << \"\\t current reward: \"\n",
    "  //   << totalReward << \"\\t Action taken: \" << action;\n",
    "}\n",
    "\n",
    "envTest.close();\n",
    "std::string url = envTest.url();\n",
    "std::cout << url;\n",
    "auto video = xw::video_from_url(url).finalize();\n",
    "video"
   ]
  },
  {
   "cell_type": "markdown",
   "metadata": {},
   "source": [
    "## A little more training..."
   ]
  },
  {
   "cell_type": "code",
   "execution_count": 18,
   "metadata": {},
   "outputs": [
    {
     "name": "stdout",
     "output_type": "stream",
     "text": [
      "Training for 40000 steps.\n",
      "Avg return in last 25 episodes: -623.784\t Episode return: -134.917\t Total steps: 5600\n",
      "Avg return in last 25 episodes: -600.928\t Episode return: -243.994\t Total steps: 6400\n",
      "Avg return in last 25 episodes: -510.564\t Episode return: -234.78\t Total steps: 7200\n",
      "Avg return in last 25 episodes: -415.94\t Episode return: -0.388022\t Total steps: 8000\n",
      "Avg return in last 25 episodes: -336.953\t Episode return: -129.554\t Total steps: 8800\n",
      "Avg return in last 25 episodes: -301.628\t Episode return: -126.201\t Total steps: 9600\n",
      "Avg return in last 25 episodes: -231.332\t Episode return: -131.894\t Total steps: 10400\n",
      "Avg return in last 25 episodes: -178.349\t Episode return: -253.626\t Total steps: 11200\n",
      "Avg return in last 25 episodes: -168.248\t Episode return: -242.201\t Total steps: 12000\n",
      "Avg return in last 25 episodes: -177.98\t Episode return: -119.084\t Total steps: 12800\n",
      "Avg return in last 25 episodes: -177.816\t Episode return: -123.397\t Total steps: 13600\n",
      "Avg return in last 25 episodes: -208.699\t Episode return: -492.161\t Total steps: 14400\n",
      "Avg return in last 25 episodes: -194.5\t Episode return: -1.40593\t Total steps: 15200\n",
      "Avg return in last 25 episodes: -192.542\t Episode return: -228.886\t Total steps: 16000\n",
      "Avg return in last 25 episodes: -231.122\t Episode return: -334.881\t Total steps: 16800\n",
      "Avg return in last 25 episodes: -206.807\t Episode return: -125.605\t Total steps: 17600\n",
      "Avg return in last 25 episodes: -252.827\t Episode return: -0.865305\t Total steps: 18400\n",
      "Avg return in last 25 episodes: -365.02\t Episode return: -475.576\t Total steps: 19200\n",
      "Avg return in last 25 episodes: -354.857\t Episode return: -116.037\t Total steps: 20000\n",
      "Avg return in last 25 episodes: -359.892\t Episode return: -244.444\t Total steps: 20800\n",
      "Avg return in last 25 episodes: -334.737\t Episode return: -246.958\t Total steps: 21600\n",
      "Avg return in last 25 episodes: -336.934\t Episode return: -2.24987\t Total steps: 22400\n",
      "Avg return in last 25 episodes: -299.822\t Episode return: -234.806\t Total steps: 23200\n",
      "Avg return in last 25 episodes: -188.558\t Episode return: -124.535\t Total steps: 24000\n",
      "Avg return in last 25 episodes: -160.135\t Episode return: -123.951\t Total steps: 24800\n",
      "Avg return in last 25 episodes: -165.263\t Episode return: -123.707\t Total steps: 25600\n",
      "Avg return in last 25 episodes: -155.278\t Episode return: -1.49796\t Total steps: 26400\n",
      "Avg return in last 25 episodes: -144.217\t Episode return: -234.275\t Total steps: 27200\n",
      "Avg return in last 25 episodes: -149.474\t Episode return: -240.818\t Total steps: 28000\n",
      "Avg return in last 25 episodes: -177.878\t Episode return: -367.93\t Total steps: 28800\n",
      "Avg return in last 25 episodes: -173.281\t Episode return: -125.279\t Total steps: 29600\n",
      "Avg return in last 25 episodes: -178.112\t Episode return: -123.648\t Total steps: 30400\n",
      "Avg return in last 25 episodes: -194.985\t Episode return: -121.063\t Total steps: 31200\n",
      "Avg return in last 25 episodes: -228.646\t Episode return: -120.35\t Total steps: 32000\n",
      "Avg return in last 25 episodes: -224.363\t Episode return: -122.863\t Total steps: 32800\n",
      "Avg return in last 25 episodes: -205.555\t Episode return: -121.354\t Total steps: 33600\n",
      "Avg return in last 25 episodes: -205.607\t Episode return: -239.663\t Total steps: 34400\n",
      "Avg return in last 25 episodes: -257.053\t Episode return: -250.75\t Total steps: 35200\n",
      "Avg return in last 25 episodes: -290.906\t Episode return: -120.127\t Total steps: 36000\n",
      "Avg return in last 25 episodes: -252.13\t Episode return: -1.45778\t Total steps: 36800\n",
      "Avg return in last 25 episodes: -256.027\t Episode return: -3.13895\t Total steps: 37600\n",
      "Avg return in last 25 episodes: -260.436\t Episode return: -123.685\t Total steps: 38400\n",
      "Avg return in last 25 episodes: -279.927\t Episode return: -114.913\t Total steps: 39200\n",
      "Avg return in last 25 episodes: -233.131\t Episode return: -231.111\t Total steps: 40000\n"
     ]
    }
   ],
   "source": [
    "// Training the same agent for a total of at least 40000 steps.\n",
    "train(40000)"
   ]
  },
  {
   "cell_type": "markdown",
   "metadata": {},
   "source": [
    "# Final agent testing!"
   ]
  },
  {
   "cell_type": "code",
   "execution_count": 19,
   "metadata": {},
   "outputs": [
    {
     "name": "stdout",
     "output_type": "stream",
     "text": [
      " Total steps: 200\t Total reward: -234.036\n",
      "https://gym.kurg.org/6a964dee60c14/output.webm"
     ]
    },
    {
     "data": {
      "application/vnd.jupyter.widget-view+json": {
       "model_id": "3050c51d9b014a13a6f4e3ed3e9bcfb6",
       "version_major": 2,
       "version_minor": 0
      },
      "text/plain": [
       "A Jupyter widget"
      ]
     },
     "execution_count": 19,
     "metadata": {},
     "output_type": "execute_result"
    }
   ],
   "source": [
    "agent.Deterministic() = true;\n",
    "\n",
    "// Creating and setting up the gym environment for testing.\n",
    "gym::Environment envTest(\"gym.kurg.org\", \"4040\", \"Pendulum-v0\");\n",
    "envTest.monitor.start(\"./dummy/\", true, true);\n",
    "\n",
    "// Resets the environment.\n",
    "envTest.reset();\n",
    "envTest.render();\n",
    "\n",
    "double totalReward = 0;\n",
    "size_t totalSteps = 0;\n",
    "\n",
    "// Testing the agent on gym's environment.\n",
    "while (1)\n",
    "{\n",
    "  // State from the environment is passed to the agent's internal representation.\n",
    "  agent.State().Data() = envTest.observation;\n",
    "\n",
    "  // With the given state, the agent selects an action according to its defined policy.\n",
    "  agent.SelectAction();\n",
    "\n",
    "  // Action to take, decided by the policy.\n",
    "  arma::mat action = {double(agent.Action().action[0] * 2)};\n",
    "\n",
    "  envTest.step(action);\n",
    "  totalReward += envTest.reward;\n",
    "  totalSteps += 1;\n",
    "\n",
    "  if (envTest.done)\n",
    "  {\n",
    "    std::cout << \" Total steps: \" << totalSteps << \"\\t Total reward: \"\n",
    "        << totalReward << std::endl;\n",
    "    break;\n",
    "  }\n",
    "\n",
    "  // Uncomment the following lines to see the reward and action in each step.\n",
    "  // std::cout << \" Current step: \" << totalSteps << \"\\t current reward: \"\n",
    "  //   << totalReward << \"\\t Action taken: \" << action;\n",
    "}\n",
    "\n",
    "envTest.close();\n",
    "std::string url = envTest.url();\n",
    "std::cout << url;\n",
    "auto video = xw::video_from_url(url).finalize();\n",
    "video"
   ]
  }
 ],
 "metadata": {
  "kernelspec": {
   "display_name": "C++14",
   "language": "C++14",
   "name": "xcpp14"
  },
  "language_info": {
   "codemirror_mode": "text/x-c++src",
   "file_extension": ".cpp",
   "mimetype": "text/x-c++src",
   "name": "c++",
   "version": "14"
  }
 },
 "nbformat": 4,
 "nbformat_minor": 2
}
